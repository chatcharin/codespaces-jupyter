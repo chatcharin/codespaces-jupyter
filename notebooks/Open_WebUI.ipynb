{
 "cells": [
  {
   "cell_type": "code",
   "execution_count": null,
   "metadata": {},
   "outputs": [],
   "source": [
    "!curl -fsSL https://ollama.com/install.sh | sh"
   ]
  },
  {
   "cell_type": "code",
   "execution_count": null,
   "metadata": {},
   "outputs": [],
   "source": [
    "#!sudo apt install software-properties-common -y\n",
    "#!sudo add-apt-repository ppa:deadsnakes/ppa -y\n",
    "#!sudo apt-get update\n",
    "#!sudo apt-get install -y python3.11 python3.11-venv python3.11-dev\n",
    "\n",
    "# Create and activate a virtual environment using Python 3.11\n",
    "!python3.11 -m venv venv\n",
    "!source venv/bin/activate\n",
    "\n",
    "# Upgrade pip within the virtual environment\n",
    "!venv/bin/python -m pip install --upgrade pip\n",
    "\n",
    "# Install Open WebUI within the virtual environment\n",
    "!venv/bin/pip install open-webui\n",
    "\n",
    "# Create a script to start both servers asynchronously and expose them using localtunnel\n",
    "with open('start_servers.py', 'w') as f:\n",
    "    f.write('''\n",
    "import subprocess\n",
    "import threading\n",
    "import os\n",
    "import time\n",
    "\n",
    "def start_ollama():\n",
    "    subprocess.run(['ollama', 'serve'])\n",
    "\n",
    "def download_model():\n",
    "    subprocess.run(['ollama', 'pull', 'deepseek-r1:7b'])\n",
    "\n",
    "def start_open_webui():\n",
    "    subprocess.run(['venv/bin/open-webui', 'serve', '--port', '8081'])\n",
    "\n",
    "# Start servers in separate threads\n",
    "threading.Thread(target=start_ollama).start()\n",
    "time.sleep(5)\n",
    "threading.Thread(target=download_model).start()\n",
    "threading.Thread(target=start_open_webui).start()\n",
    "''')\n",
    "\n",
    "# Execute the script\n",
    "!venv/bin/python start_servers.py \n"
   ]
  },
  {
   "cell_type": "code",
   "execution_count": null,
   "metadata": {},
   "outputs": [],
   "source": [
    "!venv/bin/open-webui serve --port 8081"
   ]
  },
  {
   "cell_type": "code",
   "execution_count": null,
   "metadata": {},
   "outputs": [],
   "source": [
    "import sqlite3\n",
    "print(sqlite3.sqlite_version)"
   ]
  },
  {
   "cell_type": "code",
   "execution_count": null,
   "metadata": {},
   "outputs": [],
   "source": [
    "!ls"
   ]
  },
  {
   "cell_type": "code",
   "execution_count": 23,
   "metadata": {},
   "outputs": [],
   "source": [
    "!rm -rf venv\n"
   ]
  },
  {
   "cell_type": "code",
   "execution_count": null,
   "metadata": {},
   "outputs": [],
   "source": [
    "!sudo apt install build-essential libreadline-dev\n",
    "!sudo  --version\n",
    "!sudo wget https://www.sqlite.org/src/tar.gz/sqlite-autoconf-3.5.0.tar.gz  # Example: 3.5.0\n",
    "!sudo tar xzf sqlite-autoconf-3.5.0.tar.gz\n",
    "!sudo cd sqlite-autoconf-3.5.0\n",
    "\n",
    "# Configure and compile (install to a local directory)\n",
    "!sudo ./configure --prefix=$HOME/local_sqlite\n",
    "!sudo make\n",
    "!sudo make install\n",
    "\n",
    " \n"
   ]
  },
  {
   "cell_type": "code",
   "execution_count": null,
   "metadata": {},
   "outputs": [],
   "source": [
    "!sudo apt remove sqlite3 -y"
   ]
  },
  {
   "cell_type": "code",
   "execution_count": null,
   "metadata": {},
   "outputs": [],
   "source": [
    "!sudo wget https://www.sqlite.org/2023/sqlite-autoconf-3420000.tar.gz"
   ]
  },
  {
   "cell_type": "code",
   "execution_count": null,
   "metadata": {},
   "outputs": [],
   "source": [
    "!sudo tar xzf sqlite-autoconf-3420000.tar.gz\n",
    "!cd sqlite-autoconf-3420000.tar.gz\n",
    "\n",
    "# Configure and compile (install to a local directory)\n",
    "!sudo ./configure --prefix=$HOME/local_sqlite\n",
    "!sudo make\n",
    "!sudo make install"
   ]
  }
 ],
 "metadata": {
  "kernelspec": {
   "display_name": "Python 3",
   "language": "python",
   "name": "python3"
  },
  "language_info": {
   "codemirror_mode": {
    "name": "ipython",
    "version": 3
   },
   "file_extension": ".py",
   "mimetype": "text/x-python",
   "name": "python",
   "nbconvert_exporter": "python",
   "pygments_lexer": "ipython3",
   "version": "3.12.1"
  }
 },
 "nbformat": 4,
 "nbformat_minor": 2
}
